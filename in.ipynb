{
 "cells": [
  {
   "cell_type": "code",
   "execution_count": null,
   "metadata": {},
   "outputs": [],
   "source": [
    "import numpy as np \n",
    "import pandas as pd\n",
    "import matplotlib.pyplot as plt\n",
    "\n",
    "df=pd.read_csv(\"Jobs.csv\")\n",
    "\n",
    "df;"
   ]
  },
  {
   "cell_type": "code",
   "execution_count": null,
   "metadata": {},
   "outputs": [],
   "source": [
    "list_of_titles = df['title'].unique()\n",
    "print('There are {} unique job titles for Data Scientist postings'.format(len(list_of_titles)))"
   ]
  },
  {
   "cell_type": "code",
   "execution_count": null,
   "metadata": {},
   "outputs": [],
   "source": [
    "df['title'] = df['title'].str.lower()\n",
    "\n",
    "mask1 = df['title'].str.contains('data science')\n",
    "mask2 = df['title'].str.contains('data scientist')\n",
    "\n",
    "mask = mask1 | mask2\n",
    "df = df[mask]\n",
    "\n",
    "df['title'].unique();\n",
    "print('There are {} unique job titles for Data Scientist postings'.format(len(df['title'].unique())))"
   ]
  },
  {
   "cell_type": "code",
   "execution_count": null,
   "metadata": {},
   "outputs": [],
   "source": [
    "# A function that replaces the job title if it contains a certain sub string.\n",
    "def replace_title(title):\n",
    "    # Lowercase the titles first to keep consistency    \n",
    "    if 'lead' in title or 'principal' in title or 'founding' in title:\n",
    "        return 'Lead Data Scientist'\n",
    "    elif 'senior' in title or 'sr' in title:\n",
    "        return 'Senior Data Scientist'\n",
    "    elif 'manager' in title:\n",
    "        return 'Data Science Manager'\n",
    "    elif 'intern' in title:\n",
    "        return 'Intern Data Scientist'\n",
    "    elif 'vp' in title or 'vice president' in title:\n",
    "        return 'VP of Data Science'\n",
    "    elif 'director' in title:\n",
    "        return 'Director of Data Science'\n",
    "    elif 'staff' in title:\n",
    "        return 'Staff Data Scientist'\n",
    "    elif 'jr' in title or 'junior' in title:\n",
    "        return 'Junior Data Scientist'\n",
    "    elif 'data scientist' in title or 'data science' in title: \n",
    "        return 'Data Scientist'\n",
    "    else:\n",
    "        return title\n",
    "\n",
    "# Apply function to title column\n",
    "df['title'] = df['title'].apply(replace_title)"
   ]
  },
  {
   "cell_type": "code",
   "execution_count": null,
   "metadata": {},
   "outputs": [],
   "source": [
    "df['title'].unique();\n",
    "print('There are {} unique job titles for Data Scientist postings'.format(len(df['title'].unique())))"
   ]
  },
  {
   "cell_type": "code",
   "execution_count": null,
   "metadata": {},
   "outputs": [],
   "source": [
    "import seaborn as sns\n",
    "sns.countplot(y= 'title', data = df, order = df['title'].value_counts().index)\n",
    "\n",
    "# Add labels and titles\n",
    "plt.xlabel('Count')\n",
    "plt.ylabel('Job Title')\n",
    "plt.title('Count Plot of Different Data Science Job Titles')\n",
    "\n",
    "plt.show()"
   ]
  },
  {
   "cell_type": "code",
   "execution_count": null,
   "metadata": {},
   "outputs": [],
   "source": [
    "df['word_count'] = df['description'].str.split().str.len()"
   ]
  },
  {
   "cell_type": "code",
   "execution_count": null,
   "metadata": {},
   "outputs": [],
   "source": [
    "summary = df['word_count'].describe(percentiles = [0.10, 0.20, 0.30, 0.40, 0.50, 0.60, 0.70, 0.80, 0.90, 1.00])\n",
    "summary"
   ]
  },
  {
   "cell_type": "code",
   "execution_count": null,
   "metadata": {},
   "outputs": [],
   "source": [
    "# Plot the distribution of the word numbers per description\n",
    "df['word_count'].plot.hist(xticks = [0, 200, 400, 600, 800, 1000, 1200, 1400, 1600], bins = 100, range = [0, 1600]).axvline(x= summary['100%'], c = 'red')\n",
    "\n",
    "plt.xlabel('Number of Words')\n",
    "plt.ylabel('Frequency')\n",
    "plt.title('Distribution of number of words used in job descriptions')\n",
    "plt.show()"
   ]
  },
  {
   "cell_type": "code",
   "execution_count": null,
   "metadata": {},
   "outputs": [],
   "source": [
    "from fuzzywuzzy import fuzz\n",
    "\n",
    "# list of skills to match\n",
    "tools = [\"Python\",\"R\",\"SQL\",\"Jupyter\",\"NumPy\",\"Pandas\",\"Matplotlib\",\"Seaborn\",\n",
    "                      \"SciPy\",\"Scikit-Learn\",\"TensorFlow\",\"PyTorch\",\"Keras\",\"XGBoost\",\"LightGBM\",\n",
    "                      \"Plotly\",\"Dask\",\"Spark\",\"Hadoop\",\"AWS\",\"Google Cloud\",\n",
    "                      \"Azure\",\"IBM Watson\",\"NLTK\",\"OpenCV\",\"Gensim\",\"StatsModels\",\n",
    "                      \"Theano\",\"Caffe\",\"Keras-Tuner\",\"Auto-Keras\",\"Auto-Sklearn\",\"Shap\",\"ELI5\",\"Bokeh\",\n",
    "                      \"Folium\",\"ggplot\",\"plotnine\",\"Geopandas\",\"Datashader\",\"Yellowbrick\",\"H2O.ai\",\"Flask\",\n",
    "                      \"Dash\",\"Streamlit\",\"FastAPI\",\"PySpark\",\"TensorBoard\",\"cuDF\",\"NetworkX\",\"BeautifulSoup\",\n",
    "                      \"Scrapy\",\"Numba\",\"Cython\", \"Apache\", \"Git\"]\n",
    "\n",
    "def match_phrases(description, phrases):\n",
    "    matched_phrase = [phrase for phrase in phrases if fuzz.partial_token_set_ratio(description, phrase) >= 90]\n",
    "    # Only return matches once\n",
    "    unique_matches = list(set(matched_phrase))\n",
    "    return unique_matches\n",
    "\n",
    "df['Tools'] = df['description'].apply(lambda x: match_phrases(x, tools))"
   ]
  },
  {
   "cell_type": "code",
   "execution_count": null,
   "metadata": {},
   "outputs": [],
   "source": [
    "import collections\n",
    "# Visualization functions\n",
    "    \n",
    "# Function used to generate countplot \n",
    "def generate_countplot(df, column, top_n = None):\n",
    "    words = [word for row in df[column] for word in row]\n",
    "    \n",
    "    counter = collections.Counter(words)\n",
    "    \n",
    "    top_n_words = [word for word, count in counter.most_common(top_n)]\n",
    "    \n",
    "    plt.figure(figsize = (10,5))\n",
    "    \n",
    "    sns.countplot(x = words, order = top_n_words)\n",
    "    plt.xlabel(column)\n",
    "    plt.ylabel('Count')\n",
    "    plt.xticks(rotation = 90)\n",
    "    plt.show()"
   ]
  },
  {
   "cell_type": "code",
   "execution_count": null,
   "metadata": {},
   "outputs": [],
   "source": [
    "generate_countplot(df, 'Tools', 20)"
   ]
  },
  {
   "cell_type": "code",
   "execution_count": null,
   "metadata": {},
   "outputs": [],
   "source": [
    "tasks = [\"Python programming\", \"Statistics\" ,\"Probability\", \"Machine learning\",\"Data visualization\",\"preprocessing\" \"cleaning\",\"database management\", \"analysis\", \"modeling\",    \n",
    "         \"Deep learning\",\"Data engineering\", \"visualization\", \"manipulation\", \"Machine learning\", \"storage\", \"Cloud computing\", \"ETL\",    \n",
    "         \"warehousing\",\"governance\", \"security\",\"storytelling\", \"product development\", \"Natural language processing\", \"NLP\",    \n",
    "         \"Computer vision\", \"Business intelligence\", \"mining\",\"feature engineering\", \"Time series analysis\", \"Regression analysis\", \"Classification algorithms\",    \n",
    "         \"Clustering algorithms\", \"Neural networks\", \"Decision trees\", \"random forests\", \"Support vector machines\", \"SVM\", \"K-nearest neighbors\", \"KNN\", \"Reinforcement learning\",\"Hyperparameter tuning\",    \n",
    "         \"Ensemble learning\", \"Transfer learning\", \"Unsupervised learning\",\"Supervised learning\",\"Exploratory data analysis\", \"EDA\", \"quality control\",    \n",
    "         \"Data interpretation\", \"Collaboration\", \"communication\", \"Project management\", \"Agile development\", \"Software engineering\", \"Version control\", \"Debugging\", \"troubleshooting\",\n",
    "         \"Continuous integration and deployment (CI/CD)\", \"optimization\", 'deployment']\n",
    "\n",
    "\n",
    "df['Skills'] = df['description'].apply(lambda x: match_phrases(x, tasks))"
   ]
  },
  {
   "cell_type": "code",
   "execution_count": null,
   "metadata": {},
   "outputs": [],
   "source": [
    "generate_countplot(df, 'Skills', 20)"
   ]
  },
  {
   "cell_type": "code",
   "execution_count": null,
   "metadata": {},
   "outputs": [],
   "source": [
    "import re \n",
    "from fuzzywuzzy import fuzz\n",
    "\n",
    "def extract_years_of_experience(description):\n",
    "    # Regular expression pattern to match the years of experience information\n",
    "    pattern = re.compile(r'(\\d+\\+?\\s*years?\\s*of\\s*experience)', re.IGNORECASE)\n",
    "    \n",
    "    # search for the pattern in the job description\n",
    "    match = re.search(pattern, description)\n",
    "    \n",
    "    # if there is a match, return the matched string\n",
    "    if match:\n",
    "        return match.group(0)\n",
    "    else:\n",
    "        return \"Not Specified\"\n",
    "    \n",
    "df['Years_of_Experience'] = df['description'].apply(extract_years_of_experience)"
   ]
  },
  {
   "cell_type": "code",
   "execution_count": null,
   "metadata": {},
   "outputs": [],
   "source": [
    "df['Years_of_Experience'].value_counts()"
   ]
  },
  {
   "cell_type": "code",
   "execution_count": null,
   "metadata": {},
   "outputs": [],
   "source": [
    "import re \n",
    "from fuzzywuzzy import fuzz\n",
    "\n",
    "def extract_years_of_experience(description):\n",
    "    # Regular expression pattern to match the years of experience information\n",
    "    pattern = re.compile(r'(\\d+)\\s*years?', re.IGNORECASE)\n",
    "    \n",
    "    # search for the pattern in the job description\n",
    "    match = re.search(pattern, description)\n",
    "    \n",
    "    # if there is a match, return the matched string\n",
    "    if match:\n",
    "        return match.group(0)\n",
    "    else:\n",
    "        return \"Not Specified\"\n",
    "    \n",
    "df['Years_of_Experience'] = df['description'].apply(extract_years_of_experience)"
   ]
  },
  {
   "cell_type": "code",
   "execution_count": null,
   "metadata": {},
   "outputs": [],
   "source": [
    "df['Years_of_Experience'].value_counts()"
   ]
  },
  {
   "cell_type": "code",
   "execution_count": null,
   "metadata": {},
   "outputs": [],
   "source": [
    "# Extract just the numbers using regular expression\n",
    "df['years'] = df['Years_of_Experience'].str.extract(r'(\\d+)').fillna(0).astype(int)"
   ]
  },
  {
   "cell_type": "code",
   "execution_count": null,
   "metadata": {},
   "outputs": [],
   "source": [
    "df['years'].value_counts()"
   ]
  },
  {
   "cell_type": "code",
   "execution_count": null,
   "metadata": {},
   "outputs": [],
   "source": [
    "df['experience'] = df['years'].apply(lambda x: 'Not Specified' if x == 0 or x >= 18\n",
    "                                    else ('1 to 3 years' if x >= 1 and x <= 3\n",
    "                                    else ('4 to 6 years' if x >= 4 and x <= 6 \n",
    "                                    else '6+ years')))"
   ]
  },
  {
   "cell_type": "code",
   "execution_count": null,
   "metadata": {},
   "outputs": [],
   "source": [
    "df['experience'].value_counts()"
   ]
  },
  {
   "cell_type": "code",
   "execution_count": null,
   "metadata": {},
   "outputs": [],
   "source": [
    "# Set size of figure\n",
    "plt.figure(figsize = (10,5))\n",
    "\n",
    "sns.countplot(data = df[df['experience'] != 'Not Specified'], x = 'title', hue = 'experience')\n",
    "# rotate the x-axis labels by 90 degrees\n",
    "plt.xticks(rotation = 90)\n",
    "plt.legend(loc = 'upper right')\n",
    "plt.show()"
   ]
  },
  {
   "cell_type": "code",
   "execution_count": null,
   "metadata": {},
   "outputs": [],
   "source": [
    "from fuzzywuzzy import fuzz\n",
    "\n",
    "def extract_education_level(description):\n",
    "    # Dictionary that maps education levels to their abbreviations\n",
    "    education_levels = {\n",
    "        'bachelor': ['bs', 'bachelor'],\n",
    "        'master': ['ms', 'master'],\n",
    "        'phd': ['phd'],\n",
    "        'doctorate': ['doctorate']\n",
    "    }\n",
    "    # initialize the education level and maximum ratio to 0\n",
    "    education_level = None\n",
    "    max_ratio = 0\n",
    "    # iterate over the education levels and their abbreviations\n",
    "    for level, abbreviations in education_levels.items():\n",
    "        level_variants = [level] + abbreviations\n",
    "        for variant in level_variants:\n",
    "            # calculate the fuzzy matching ratio between the variant and the job description\n",
    "            ratio = fuzz.partial_token_set_ratio(variant, description)\n",
    "            if ratio > max_ratio:\n",
    "                max_ratio = ratio\n",
    "                education_level = level\n",
    "    if max_ratio >= 80:\n",
    "        return education_level\n",
    "    else:\n",
    "        return 'Not Specified'\n",
    "    \n",
    "df['Education_Level'] = df['description'].apply(extract_education_level)"
   ]
  },
  {
   "cell_type": "code",
   "execution_count": null,
   "metadata": {},
   "outputs": [],
   "source": [
    "plt.figure(figsize = (10,5))\n",
    "sns.countplot(x = 'Education_Level', data = df[df['Education_Level'] != 'Not Specified'])"
   ]
  },
  {
   "cell_type": "code",
   "execution_count": null,
   "metadata": {},
   "outputs": [],
   "source": [
    "# Set size of figure\n",
    "plt.figure(figsize = (10,5))\n",
    "\n",
    "sns.countplot(data = df[df['Education_Level'] != 'Not Specified'], x = 'title', hue = 'Education_Level')\n",
    "# rotate the x-axis labels by 90 degrees\n",
    "plt.xticks(rotation = 90)\n",
    "plt.legend(loc = 'upper right')\n",
    "plt.show()"
   ]
  },
  {
   "cell_type": "code",
   "execution_count": null,
   "metadata": {},
   "outputs": [],
   "source": [
    "df = df.drop(df.columns[:1], axis=1)\n",
    "print(df.columns[:5])"
   ]
  },
  {
   "cell_type": "code",
   "execution_count": null,
   "metadata": {},
   "outputs": [],
   "source": [
    "df = df.drop('Years_of_Experience', axis=1)\n"
   ]
  },
  {
   "cell_type": "code",
   "execution_count": null,
   "metadata": {},
   "outputs": [],
   "source": [
    "df = df.drop('experience', axis=1)"
   ]
  },
  {
   "cell_type": "code",
   "execution_count": null,
   "metadata": {},
   "outputs": [],
   "source": [
    "import nltk\n",
    "nltk.download('stopwords')\n",
    "\n",
    "from nltk.corpus import stopwords\n",
    "\n",
    "stop_words = set(stopwords.words('english'))"
   ]
  },
  {
   "cell_type": "code",
   "execution_count": null,
   "metadata": {},
   "outputs": [],
   "source": [
    "words = df.description.str.split().explode().str.lower()\n",
    "words = words[~words.isin(stop_words)]\n",
    "most_common_words = words.value_counts().nlargest(30)"
   ]
  }
 ],
 "metadata": {
  "kernelspec": {
   "display_name": "Python 3",
   "language": "python",
   "name": "python3"
  },
  "language_info": {
   "codemirror_mode": {
    "name": "ipython",
    "version": 3
   },
   "file_extension": ".py",
   "mimetype": "text/x-python",
   "name": "python",
   "nbconvert_exporter": "python",
   "pygments_lexer": "ipython3",
   "version": "3.11.0"
  },
  "orig_nbformat": 4,
  "vscode": {
   "interpreter": {
    "hash": "aee8b7b246df8f9039afb4144a1f6fd8d2ca17a180786b69acc140d282b71a49"
   }
  }
 },
 "nbformat": 4,
 "nbformat_minor": 2
}
